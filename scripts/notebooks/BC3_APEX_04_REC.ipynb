{
 "cells": [
  {
   "cell_type": "markdown",
   "id": "56ffc7d5-fab0-4b86-80de-33abb99d7ba5",
   "metadata": {},
   "source": [
    "# BC 3 Recommender System"
   ]
  },
  {
   "cell_type": "markdown",
   "id": "8daaf4f0-e71a-4382-a4c4-a8a0c452e1b6",
   "metadata": {},
   "source": [
    "Apex Pattern Deployers\n",
    "\n",
    "- Marjorie Kinney *m20210647*\n",
    "- Bruno Mendes *m20210627*\n",
    "- Lucas Neves *m20211020*\n",
    "- Farina Pontejos *m20210649*\n",
    "\n",
    "Business Cases for Data Science\n",
    "\n",
    "NOVA Information Management School\n",
    "\n",
    "April 2022\n",
    "\n",
    "https://github.com/fpontejos/bc3\n"
   ]
  },
  {
   "cell_type": "markdown",
   "id": "6b41a9b6-f0c4-4082-b193-9d2f74fb10c0",
   "metadata": {},
   "source": [
    "## Initial Setup"
   ]
  },
  {
   "cell_type": "markdown",
   "id": "b0b16a74-7eb2-4267-9d70-be3ba063c327",
   "metadata": {},
   "source": [
    "### Imports\n"
   ]
  },
  {
   "cell_type": "code",
   "execution_count": 1,
   "id": "e052dcf1-ac28-4ee6-91a7-232fad116427",
   "metadata": {},
   "outputs": [],
   "source": [
    "import pandas as pd\n",
    "import numpy as np\n",
    "import scipy as sp\n",
    "import seaborn as sns\n",
    "import matplotlib.pyplot as plt\n",
    "import scipy.stats as stats\n",
    "from math import ceil\n",
    "from datetime import timedelta, datetime\n",
    "import os\n",
    "import re\n",
    "import warnings\n",
    "import itertools\n",
    "import collections\n",
    "\n",
    "warnings.filterwarnings('ignore')\n",
    "\n",
    "from matplotlib.colors import LinearSegmentedColormap\n",
    "from matplotlib.colors import is_color_like\n",
    "\n",
    "from sklearn.feature_extraction import text\n"
   ]
  },
  {
   "cell_type": "code",
   "execution_count": 2,
   "id": "0b85e11b-674e-4971-9c8c-d55921911478",
   "metadata": {},
   "outputs": [],
   "source": [
    "# pip install nltk\n",
    "import nltk\n",
    "\n",
    "## Uncomment these on first run\n",
    "# nltk.download('omw-1.4')\n",
    "# nltk.download('averaged_perceptron_tagger')\n",
    "\n",
    "from nltk.stem import PorterStemmer\n",
    "from nltk.stem import WordNetLemmatizer\n",
    "\n"
   ]
  },
  {
   "cell_type": "code",
   "execution_count": 3,
   "id": "8f1edbb8-fea8-4b06-9616-8dc48f29b9d4",
   "metadata": {},
   "outputs": [],
   "source": [
    "# pip install networkx\n",
    "import networkx as nx\n",
    "\n",
    "import plotly.offline as py\n",
    "import plotly.graph_objects as go\n",
    "\n",
    "# pip install pydot\n",
    "# pip install graphviz\n",
    "\n",
    "import pydot\n",
    "import graphviz\n",
    "\n",
    "from mlxtend.frequent_patterns import apriori\n",
    "from mlxtend.frequent_patterns import association_rules\n"
   ]
  },
  {
   "cell_type": "code",
   "execution_count": 4,
   "id": "c7bc8c92-9553-4200-b496-79a2ffbbf48f",
   "metadata": {},
   "outputs": [],
   "source": [
    "from sklearn.feature_extraction.text import CountVectorizer, TfidfVectorizer, TfidfTransformer\n",
    "from sklearn.metrics.pairwise import cosine_similarity\n",
    "from itertools import combinations\n"
   ]
  },
  {
   "cell_type": "markdown",
   "id": "8c976c1d-ed9e-4ac8-92e1-98db66e8ed78",
   "metadata": {},
   "source": [
    "### Variables"
   ]
  },
  {
   "cell_type": "code",
   "execution_count": 5,
   "id": "c9b8cfa0-9319-4b5e-9cbe-44d322e19b65",
   "metadata": {},
   "outputs": [],
   "source": [
    "COLORS = ['#e06666', '#e88b81', '#f0ad9a', '#f8ceb2', '#ffeeca', '#c6cfbf', '#8fb0ae', '#58919d', '#20718b']\n",
    "\n",
    "CAT_COLORS = ['#20718b', '#7DB082', '#FAEC73', '#ECA052', '#e06666']\n",
    "CONTRAST_COLORS = [COLORS[i] for i in range(len(COLORS)) if (i%2) == 0]\n",
    "\n",
    "DIV_COLORS = ['#e06666', '#e68d8d', '#ebb1b1', '#efd3d3', '#f4f4f4', '#bed3da', '#8ab2bf', '#5592a5', '#20718b']\n",
    "\n",
    "UMP_COLORS = ['#22446D', '#FC9E4F', '#AB2346' ,'#6ABB5D']\n",
    "\n",
    "DEFAULT_PALETTE = sns.color_palette(COLORS)\n",
    "CONTRAST_PALETTE = sns.color_palette(CONTRAST_COLORS)\n",
    "DIVERGENT_PALETTE = sns.color_palette(DIV_COLORS)\n",
    "CAT_PALETTE = sns.color_palette(CAT_COLORS)\n",
    "UMP_PALETTE = sns.color_palette(UMP_COLORS)\n",
    "\n",
    "\n",
    "DIV_CMAP = LinearSegmentedColormap.from_list(\"div_colors\", DIV_COLORS)\n",
    "CAT_CMAP = LinearSegmentedColormap.from_list(\"cat_colors\", CAT_COLORS)\n",
    "UMP_CMAP = LinearSegmentedColormap.from_list(\"ump_colors\", UMP_COLORS)\n",
    "\n",
    "\n",
    "SHOW_PLOTS = True\n",
    "SAVE_PLOTS = True\n",
    "RANDOM_STATE = 9\n",
    "\n",
    "IMG_PATH = 'imgs/'\n",
    "DATA_PATH = '../data/'\n"
   ]
  },
  {
   "cell_type": "code",
   "execution_count": 6,
   "id": "9ae651b2-a951-4f56-a201-c4686a326416",
   "metadata": {},
   "outputs": [],
   "source": [
    "def save_fig(title, fig):\n",
    "    if SAVE_PLOTS == True:\n",
    "        fn = IMG_PATH + title.replace(' ','-') + '.png'\n",
    "        fig.savefig(fn, bbox_inches='tight', transparent=True)\n",
    "        \n"
   ]
  },
  {
   "cell_type": "code",
   "execution_count": 7,
   "id": "98308b14-b496-45a5-af38-502d51c7b8ad",
   "metadata": {},
   "outputs": [],
   "source": [
    "## Function to plot histograms of numeric features for specified dfframe\n",
    "def plot_histograms_boxplots(df, features, rows=4, title = \"Histograms of Numeric Variables\", bins=10):\n",
    "    if SHOW_PLOTS:\n",
    "        cols = ceil(len(features) / rows)\n",
    "        fig = plt.figure(figsize=(4*cols,4*rows),\n",
    "                         constrained_layout=True)\n",
    "        \n",
    "        subfigs = fig.subfigures(rows, cols)\n",
    "    \n",
    "        for subf, feat in zip(subfigs.flatten(), features):\n",
    "            axs = subf.subplots(2, 1, sharex=True, \\\n",
    "                                gridspec_kw={'height_ratios': [4,1]})\n",
    "        \n",
    "            axs[0].hist(df[feat], color=COLORS[0], bins=bins)\n",
    "            axs[0].set_ylabel(None)\n",
    "            axs[0].set_title(feat, y=1, fontsize=6*rows)\n",
    "        \n",
    "            axs[1].set_xlabel(None)\n",
    "            flierprops = dict(markerfacecolor='None', markersize=6,  markeredgecolor=COLORS[0])\n",
    "            sns.boxplot(x=df[feat], ax=axs[1], color=COLORS[0], flierprops=flierprops)\n",
    "            axs[1].set_xlabel(None)\n",
    "\n",
    "            subf.suptitle(None)\n",
    "        \n",
    "        plt.suptitle(title, fontsize=8*rows)\n",
    "        if SAVE_PLOTS:\n",
    "            save_fig(title, fig)\n",
    "        \n",
    "        plt.show()\n",
    "    else:\n",
    "        print(\"show_plots is currently set to False\")"
   ]
  },
  {
   "cell_type": "markdown",
   "id": "1f24e82f-14c8-4da9-9e8b-fba7667c1fcf",
   "metadata": {},
   "source": [
    "### Styles"
   ]
  },
  {
   "cell_type": "code",
   "execution_count": 8,
   "id": "d0d86da4-a7e3-4c60-b9b6-a1d18ed6ecff",
   "metadata": {},
   "outputs": [],
   "source": [
    "sns.set(style=\"white\")\n",
    "\n",
    "sns.set_context(\"paper\")\n",
    "sns.set_palette(DEFAULT_PALETTE)\n",
    "\n",
    "\n",
    "plt.rcParams['figure.dpi'] = 128"
   ]
  },
  {
   "cell_type": "code",
   "execution_count": 9,
   "id": "7ff17ac6-887d-425e-9bbd-aa074fc451b4",
   "metadata": {},
   "outputs": [
    {
     "data": {
      "image/png": "[encoded data removed]",
      "text/plain": [
       "<Figure size 1152x128 with 1 Axes>"
      ]
     },
     "metadata": {},
     "output_type": "display_data"
    },
    {
     "data": {
      "image/png": "[encoded data removed]",
      "text/plain": [
       "<Figure size 640x128 with 1 Axes>"
      ]
     },
     "metadata": {},
     "output_type": "display_data"
    },
    {
     "data": {
      "image/png": "[encoded data removed]",
      "text/plain": [
       "<Figure size 1152x128 with 1 Axes>"
      ]
     },
     "metadata": {},
     "output_type": "display_data"
    },
    {
     "data": {
      "image/png": "[encoded data removed]",
      "text/plain": [
       "<Figure size 640x128 with 1 Axes>"
      ]
     },
     "metadata": {},
     "output_type": "display_data"
    }
   ],
   "source": [
    "sns.palplot(DEFAULT_PALETTE)\n",
    "sns.palplot(CONTRAST_PALETTE)\n",
    "sns.palplot(DIVERGENT_PALETTE)\n",
    "sns.palplot(CAT_PALETTE)\n",
    "plt.show()"
   ]
  },
  {
   "cell_type": "markdown",
   "id": "48ba3d73-4bf3-48e5-919b-e4f35ffcdf09",
   "metadata": {},
   "source": [
    "## Load df"
   ]
  },
  {
   "cell_type": "code",
   "execution_count": 10,
   "id": "8bbbbef3-92aa-4909-8cbc-0fb17828b3ce",
   "metadata": {},
   "outputs": [],
   "source": [
    "df = pd.read_csv(DATA_PATH + \"data_cleaned.csv\")\n",
    "df_orig = df.copy()"
   ]
  },
  {
   "cell_type": "code",
   "execution_count": 11,
   "id": "67735a0d-d5aa-405a-99b9-f8045da02a9a",
   "metadata": {},
   "outputs": [
    {
     "data": {
      "text/html": [
       "<div>\n",
       "<style scoped>\n",
       "    .dataframe tbody tr th:only-of-type {\n",
       "        vertical-align: middle;\n",
       "    }\n",
       "\n",
       "    .dataframe tbody tr th {\n",
       "        vertical-align: top;\n",
       "    }\n",
       "\n",
       "    .dataframe thead th {\n",
       "        text-align: right;\n",
       "    }\n",
       "</style>\n",
       "<table border=\"1\" class=\"dataframe\">\n",
       "  <thead>\n",
       "    <tr style=\"text-align: right;\">\n",
       "      <th></th>\n",
       "      <th>InvoiceNo</th>\n",
       "      <th>Quantity</th>\n",
       "      <th>UnitPrice</th>\n",
       "      <th>Value</th>\n",
       "      <th>CustomerID</th>\n",
       "      <th>InvoiceDate</th>\n",
       "      <th>IsCancelled</th>\n",
       "      <th>Description</th>\n",
       "    </tr>\n",
       "  </thead>\n",
       "  <tbody>\n",
       "    <tr>\n",
       "      <th>0</th>\n",
       "      <td>536365</td>\n",
       "      <td>6</td>\n",
       "      <td>2.55</td>\n",
       "      <td>15.30</td>\n",
       "      <td>17850</td>\n",
       "      <td>2010-12-01 08:26:00</td>\n",
       "      <td>False</td>\n",
       "      <td>hanging heart tlight holder</td>\n",
       "    </tr>\n",
       "    <tr>\n",
       "      <th>1</th>\n",
       "      <td>536365</td>\n",
       "      <td>6</td>\n",
       "      <td>3.39</td>\n",
       "      <td>20.34</td>\n",
       "      <td>17850</td>\n",
       "      <td>2010-12-01 08:26:00</td>\n",
       "      <td>False</td>\n",
       "      <td>metal lantern</td>\n",
       "    </tr>\n",
       "    <tr>\n",
       "      <th>2</th>\n",
       "      <td>536365</td>\n",
       "      <td>8</td>\n",
       "      <td>2.75</td>\n",
       "      <td>22.00</td>\n",
       "      <td>17850</td>\n",
       "      <td>2010-12-01 08:26:00</td>\n",
       "      <td>False</td>\n",
       "      <td>heart coat hanger</td>\n",
       "    </tr>\n",
       "    <tr>\n",
       "      <th>3</th>\n",
       "      <td>536365</td>\n",
       "      <td>6</td>\n",
       "      <td>3.39</td>\n",
       "      <td>20.34</td>\n",
       "      <td>17850</td>\n",
       "      <td>2010-12-01 08:26:00</td>\n",
       "      <td>False</td>\n",
       "      <td>knitted union flag water bottle</td>\n",
       "    </tr>\n",
       "    <tr>\n",
       "      <th>4</th>\n",
       "      <td>536365</td>\n",
       "      <td>6</td>\n",
       "      <td>3.39</td>\n",
       "      <td>20.34</td>\n",
       "      <td>17850</td>\n",
       "      <td>2010-12-01 08:26:00</td>\n",
       "      <td>False</td>\n",
       "      <td>woolly heart</td>\n",
       "    </tr>\n",
       "  </tbody>\n",
       "</table>\n",
       "</div>"
      ],
      "text/plain": [
       "  InvoiceNo  Quantity  UnitPrice  Value  CustomerID          InvoiceDate  \\\n",
       "0    536365         6       2.55  15.30       17850  2010-12-01 08:26:00   \n",
       "1    536365         6       3.39  20.34       17850  2010-12-01 08:26:00   \n",
       "2    536365         8       2.75  22.00       17850  2010-12-01 08:26:00   \n",
       "3    536365         6       3.39  20.34       17850  2010-12-01 08:26:00   \n",
       "4    536365         6       3.39  20.34       17850  2010-12-01 08:26:00   \n",
       "\n",
       "   IsCancelled                      Description  \n",
       "0        False      hanging heart tlight holder  \n",
       "1        False                    metal lantern  \n",
       "2        False                heart coat hanger  \n",
       "3        False  knitted union flag water bottle  \n",
       "4        False                     woolly heart  "
      ]
     },
     "execution_count": 11,
     "metadata": {},
     "output_type": "execute_result"
    }
   ],
   "source": [
    "df.head()"
   ]
  },
  {
   "cell_type": "code",
   "execution_count": 12,
   "id": "fcc77e1d-8b54-49b4-a926-cb0b4b057252",
   "metadata": {},
   "outputs": [],
   "source": [
    "df = df.loc[df['IsCancelled']==False]"
   ]
  },
  {
   "cell_type": "code",
   "execution_count": 13,
   "id": "400b1333-43ba-439c-8ab9-ae6f47044206",
   "metadata": {},
   "outputs": [],
   "source": [
    "df['InvoiceDate'] = pd.to_datetime(df['InvoiceDate'])"
   ]
  },
  {
   "cell_type": "code",
   "execution_count": 14,
   "id": "803d64d9-4a33-4ac7-9165-07aa72c972af",
   "metadata": {},
   "outputs": [
    {
     "data": {
      "text/plain": [
       "InvoiceNo              object\n",
       "Quantity                int64\n",
       "UnitPrice             float64\n",
       "Value                 float64\n",
       "CustomerID              int64\n",
       "InvoiceDate    datetime64[ns]\n",
       "IsCancelled              bool\n",
       "Description            object\n",
       "dtype: object"
      ]
     },
     "execution_count": 14,
     "metadata": {},
     "output_type": "execute_result"
    }
   ],
   "source": [
    "df.dtypes"
   ]
  },
  {
   "cell_type": "code",
   "execution_count": null,
   "id": "93f10a1d-79e7-4423-a23a-9d9870902839",
   "metadata": {},
   "outputs": [],
   "source": []
  },
  {
   "cell_type": "code",
   "execution_count": 15,
   "id": "4274761c-4ba8-48ab-980b-ad38feca8d28",
   "metadata": {},
   "outputs": [
    {
     "data": {
      "text/html": [
       "<div>\n",
       "<style scoped>\n",
       "    .dataframe tbody tr th:only-of-type {\n",
       "        vertical-align: middle;\n",
       "    }\n",
       "\n",
       "    .dataframe tbody tr th {\n",
       "        vertical-align: top;\n",
       "    }\n",
       "\n",
       "    .dataframe thead th {\n",
       "        text-align: right;\n",
       "    }\n",
       "</style>\n",
       "<table border=\"1\" class=\"dataframe\">\n",
       "  <thead>\n",
       "    <tr style=\"text-align: right;\">\n",
       "      <th></th>\n",
       "      <th>Customer Type</th>\n",
       "    </tr>\n",
       "    <tr>\n",
       "      <th>CustomerID</th>\n",
       "      <th></th>\n",
       "    </tr>\n",
       "  </thead>\n",
       "  <tbody>\n",
       "    <tr>\n",
       "      <th>12346</th>\n",
       "      <td>Wholesale</td>\n",
       "    </tr>\n",
       "    <tr>\n",
       "      <th>12347</th>\n",
       "      <td>Wholesale</td>\n",
       "    </tr>\n",
       "    <tr>\n",
       "      <th>12348</th>\n",
       "      <td>Wholesale</td>\n",
       "    </tr>\n",
       "    <tr>\n",
       "      <th>12349</th>\n",
       "      <td>Wholesale</td>\n",
       "    </tr>\n",
       "    <tr>\n",
       "      <th>12350</th>\n",
       "      <td>Retail</td>\n",
       "    </tr>\n",
       "    <tr>\n",
       "      <th>...</th>\n",
       "      <td>...</td>\n",
       "    </tr>\n",
       "    <tr>\n",
       "      <th>18280</th>\n",
       "      <td>Retail</td>\n",
       "    </tr>\n",
       "    <tr>\n",
       "      <th>18281</th>\n",
       "      <td>Retail</td>\n",
       "    </tr>\n",
       "    <tr>\n",
       "      <th>18282</th>\n",
       "      <td>Wholesale</td>\n",
       "    </tr>\n",
       "    <tr>\n",
       "      <th>18283</th>\n",
       "      <td>Wholesale</td>\n",
       "    </tr>\n",
       "    <tr>\n",
       "      <th>18287</th>\n",
       "      <td>Wholesale</td>\n",
       "    </tr>\n",
       "  </tbody>\n",
       "</table>\n",
       "<p>4335 rows × 1 columns</p>\n",
       "</div>"
      ],
      "text/plain": [
       "           Customer Type\n",
       "CustomerID              \n",
       "12346          Wholesale\n",
       "12347          Wholesale\n",
       "12348          Wholesale\n",
       "12349          Wholesale\n",
       "12350             Retail\n",
       "...                  ...\n",
       "18280             Retail\n",
       "18281             Retail\n",
       "18282          Wholesale\n",
       "18283          Wholesale\n",
       "18287          Wholesale\n",
       "\n",
       "[4335 rows x 1 columns]"
      ]
     },
     "execution_count": 15,
     "metadata": {},
     "output_type": "execute_result"
    }
   ],
   "source": [
    "df_customer_types = pd.read_csv(DATA_PATH + 'customer_types.csv', index_col='CustomerID')\n",
    "df_customer_types"
   ]
  },
  {
   "cell_type": "code",
   "execution_count": 16,
   "id": "b48d2748-4ee5-483b-9cc5-9885cc9865ae",
   "metadata": {},
   "outputs": [],
   "source": [
    "df = df.merge(df_customer_types, how='left', right_index=True, left_on='CustomerID')\n",
    "df.rename(columns={'Customer Type': 'CustomerType'}, inplace=True)\n",
    "df.head(3)\n",
    "df.drop(columns=['InvoiceDate', 'Quantity', 'UnitPrice', 'Value', 'IsCancelled'], inplace=True)\n"
   ]
  },
  {
   "cell_type": "markdown",
   "id": "cabe6893-0e31-4447-ba94-e204310b01a9",
   "metadata": {},
   "source": [
    "## Similar Baskets \n",
    "\n",
    "(Customers also bought)"
   ]
  },
  {
   "cell_type": "code",
   "execution_count": 17,
   "id": "c648ad46-bca0-42b6-94a6-4825e9f11cdd",
   "metadata": {},
   "outputs": [],
   "source": [
    "df_ = df.dropna()#.head(500)"
   ]
  },
  {
   "cell_type": "code",
   "execution_count": 18,
   "id": "5e4a01ee-564a-443f-be12-90f90b784e64",
   "metadata": {},
   "outputs": [],
   "source": [
    "#df.loc[df.Description.isna()]"
   ]
  },
  {
   "cell_type": "code",
   "execution_count": 19,
   "id": "ae0367d7-b05e-4f60-8f69-856d1dceaf61",
   "metadata": {},
   "outputs": [],
   "source": [
    "## Remove invoices with only one line item\n",
    "\n",
    "single_line_inv = df_.groupby(['InvoiceNo']).count().sort_values(by='CustomerID', ascending=True)\n",
    "single_line_inv = single_line_inv.loc[single_line_inv['CustomerID']==1]\n",
    "single_line_inv_list = single_line_inv.index.astype(str).tolist()"
   ]
  },
  {
   "cell_type": "code",
   "execution_count": 20,
   "id": "29fabc1d-433c-4de4-afc1-51a9f1263abd",
   "metadata": {},
   "outputs": [],
   "source": [
    "df_ = df_.loc[~df_['InvoiceNo'].isin(single_line_inv_list)]\n"
   ]
  },
  {
   "cell_type": "code",
   "execution_count": 21,
   "id": "bb47d165-f121-4558-9414-74c7f7bee8b5",
   "metadata": {},
   "outputs": [],
   "source": [
    "df_['CustomerID'] = df_['CustomerID'].astype(int)\n",
    "df_['InvoiceNo'] = df_['InvoiceNo'].astype(int)\n",
    "df_inv = df_.set_index('InvoiceNo')"
   ]
  },
  {
   "cell_type": "code",
   "execution_count": 22,
   "id": "14b253d5-486c-4cda-b506-d36da9399dbd",
   "metadata": {},
   "outputs": [],
   "source": [
    "# df_.groupby(['InvoiceNo'])['Description'].apply(','.join).reset_index()"
   ]
  },
  {
   "cell_type": "code",
   "execution_count": 23,
   "id": "c9ed401a-af52-4de7-82c9-f4ea7cd951ac",
   "metadata": {},
   "outputs": [
    {
     "data": {
      "text/html": [
       "<div>\n",
       "<style scoped>\n",
       "    .dataframe tbody tr th:only-of-type {\n",
       "        vertical-align: middle;\n",
       "    }\n",
       "\n",
       "    .dataframe tbody tr th {\n",
       "        vertical-align: top;\n",
       "    }\n",
       "\n",
       "    .dataframe thead th {\n",
       "        text-align: right;\n",
       "    }\n",
       "</style>\n",
       "<table border=\"1\" class=\"dataframe\">\n",
       "  <thead>\n",
       "    <tr style=\"text-align: right;\">\n",
       "      <th></th>\n",
       "      <th>InvoiceNo</th>\n",
       "      <th>CustomerID</th>\n",
       "      <th>Description</th>\n",
       "      <th>combined</th>\n",
       "    </tr>\n",
       "  </thead>\n",
       "  <tbody>\n",
       "    <tr>\n",
       "      <th>0</th>\n",
       "      <td>536365</td>\n",
       "      <td>17850</td>\n",
       "      <td>hanging heart tlight holder,metal lantern,hear...</td>\n",
       "      <td>hanging heart tlight holder metal lantern hear...</td>\n",
       "    </tr>\n",
       "    <tr>\n",
       "      <th>1</th>\n",
       "      <td>536366</td>\n",
       "      <td>17850</td>\n",
       "      <td>hand warmer union jack,hand warmer polka dot</td>\n",
       "      <td>hand warmer union jack hand warmer polka dot</td>\n",
       "    </tr>\n",
       "    <tr>\n",
       "      <th>2</th>\n",
       "      <td>536367</td>\n",
       "      <td>13047</td>\n",
       "      <td>bird ornament,playhouse bedroom,playhouse kitc...</td>\n",
       "      <td>bird ornament playhouse bedroom playhouse kitc...</td>\n",
       "    </tr>\n",
       "    <tr>\n",
       "      <th>3</th>\n",
       "      <td>536368</td>\n",
       "      <td>13047</td>\n",
       "      <td>jam making jar,coat rack paris fashion,coat ra...</td>\n",
       "      <td>jam making jar coat rack paris fashion coat ra...</td>\n",
       "    </tr>\n",
       "    <tr>\n",
       "      <th>4</th>\n",
       "      <td>536370</td>\n",
       "      <td>12583</td>\n",
       "      <td>alarm clock bakelike,alarm clock bakelike,alar...</td>\n",
       "      <td>alarm clock bakelike alarm clock bakelike alar...</td>\n",
       "    </tr>\n",
       "    <tr>\n",
       "      <th>...</th>\n",
       "      <td>...</td>\n",
       "      <td>...</td>\n",
       "      <td>...</td>\n",
       "      <td>...</td>\n",
       "    </tr>\n",
       "    <tr>\n",
       "      <th>17086</th>\n",
       "      <td>581583</td>\n",
       "      <td>13777</td>\n",
       "      <td>lunch bag retrospot,love heart tlights</td>\n",
       "      <td>lunch bag retrospot love heart tlights</td>\n",
       "    </tr>\n",
       "    <tr>\n",
       "      <th>17087</th>\n",
       "      <td>581584</td>\n",
       "      <td>13777</td>\n",
       "      <td>flock love heart photo frame,love heart tlights</td>\n",
       "      <td>flock love heart photo frame love heart tlights</td>\n",
       "    </tr>\n",
       "    <tr>\n",
       "      <th>17088</th>\n",
       "      <td>581585</td>\n",
       "      <td>15804</td>\n",
       "      <td>towel design,magnet,glass hanging tlight,glass...</td>\n",
       "      <td>towel design magnet glass hanging tlight glass...</td>\n",
       "    </tr>\n",
       "    <tr>\n",
       "      <th>17089</th>\n",
       "      <td>581586</td>\n",
       "      <td>13113</td>\n",
       "      <td>cake stand hanging strawbery,hanging owl beak,...</td>\n",
       "      <td>cake stand hanging strawbery hanging owl beak ...</td>\n",
       "    </tr>\n",
       "    <tr>\n",
       "      <th>17090</th>\n",
       "      <td>581587</td>\n",
       "      <td>12680</td>\n",
       "      <td>circus parade lunch box,plaster tin circus par...</td>\n",
       "      <td>circus parade lunch box plaster tin circus par...</td>\n",
       "    </tr>\n",
       "  </tbody>\n",
       "</table>\n",
       "<p>17091 rows × 4 columns</p>\n",
       "</div>"
      ],
      "text/plain": [
       "       InvoiceNo  CustomerID  \\\n",
       "0         536365       17850   \n",
       "1         536366       17850   \n",
       "2         536367       13047   \n",
       "3         536368       13047   \n",
       "4         536370       12583   \n",
       "...          ...         ...   \n",
       "17086     581583       13777   \n",
       "17087     581584       13777   \n",
       "17088     581585       15804   \n",
       "17089     581586       13113   \n",
       "17090     581587       12680   \n",
       "\n",
       "                                             Description  \\\n",
       "0      hanging heart tlight holder,metal lantern,hear...   \n",
       "1           hand warmer union jack,hand warmer polka dot   \n",
       "2      bird ornament,playhouse bedroom,playhouse kitc...   \n",
       "3      jam making jar,coat rack paris fashion,coat ra...   \n",
       "4      alarm clock bakelike,alarm clock bakelike,alar...   \n",
       "...                                                  ...   \n",
       "17086             lunch bag retrospot,love heart tlights   \n",
       "17087    flock love heart photo frame,love heart tlights   \n",
       "17088  towel design,magnet,glass hanging tlight,glass...   \n",
       "17089  cake stand hanging strawbery,hanging owl beak,...   \n",
       "17090  circus parade lunch box,plaster tin circus par...   \n",
       "\n",
       "                                                combined  \n",
       "0      hanging heart tlight holder metal lantern hear...  \n",
       "1           hand warmer union jack hand warmer polka dot  \n",
       "2      bird ornament playhouse bedroom playhouse kitc...  \n",
       "3      jam making jar coat rack paris fashion coat ra...  \n",
       "4      alarm clock bakelike alarm clock bakelike alar...  \n",
       "...                                                  ...  \n",
       "17086             lunch bag retrospot love heart tlights  \n",
       "17087    flock love heart photo frame love heart tlights  \n",
       "17088  towel design magnet glass hanging tlight glass...  \n",
       "17089  cake stand hanging strawbery hanging owl beak ...  \n",
       "17090  circus parade lunch box plaster tin circus par...  \n",
       "\n",
       "[17091 rows x 4 columns]"
      ]
     },
     "execution_count": 23,
     "metadata": {},
     "output_type": "execute_result"
    }
   ],
   "source": [
    "df_inv = df_inv.groupby(['InvoiceNo', 'CustomerID'])['Description'].apply(','.join).reset_index()#.set_index('InvoiceNo')\n",
    "\n",
    "df_inv['combined'] = df_inv['Description'].str.replace(',', ' ')\n",
    "df_inv"
   ]
  },
  {
   "cell_type": "code",
   "execution_count": null,
   "id": "49a923ad-cd93-4452-97f8-573018107648",
   "metadata": {},
   "outputs": [],
   "source": []
  },
  {
   "cell_type": "code",
   "execution_count": null,
   "id": "f5be4f1a-b7fc-4bbd-9f57-0d4a319fbb5b",
   "metadata": {},
   "outputs": [],
   "source": []
  },
  {
   "cell_type": "code",
   "execution_count": null,
   "id": "4ad54cc5-fc32-4d46-b06c-615f04ba48c1",
   "metadata": {},
   "outputs": [],
   "source": []
  },
  {
   "cell_type": "code",
   "execution_count": null,
   "id": "c2381370-37ed-4b45-be0a-9b25f81e87bd",
   "metadata": {},
   "outputs": [],
   "source": []
  },
  {
   "cell_type": "markdown",
   "id": "b9f0c0bd-46e3-4428-abcb-5f9e3e5ea524",
   "metadata": {},
   "source": [
    "## TF-IDF"
   ]
  },
  {
   "cell_type": "code",
   "execution_count": 24,
   "id": "62bd806a-8e9e-444c-a21e-0ea632c41bad",
   "metadata": {},
   "outputs": [
    {
     "data": {
      "text/html": [
       "<div>\n",
       "<style scoped>\n",
       "    .dataframe tbody tr th:only-of-type {\n",
       "        vertical-align: middle;\n",
       "    }\n",
       "\n",
       "    .dataframe tbody tr th {\n",
       "        vertical-align: top;\n",
       "    }\n",
       "\n",
       "    .dataframe thead th {\n",
       "        text-align: right;\n",
       "    }\n",
       "</style>\n",
       "<table border=\"1\" class=\"dataframe\">\n",
       "  <thead>\n",
       "    <tr style=\"text-align: right;\">\n",
       "      <th></th>\n",
       "      <th>InvoiceNo</th>\n",
       "      <th>CustomerID</th>\n",
       "      <th>Description</th>\n",
       "      <th>CustomerType</th>\n",
       "    </tr>\n",
       "  </thead>\n",
       "  <tbody>\n",
       "    <tr>\n",
       "      <th>0</th>\n",
       "      <td>536365</td>\n",
       "      <td>17850</td>\n",
       "      <td>hanging heart tlight holder</td>\n",
       "      <td>Wholesale</td>\n",
       "    </tr>\n",
       "    <tr>\n",
       "      <th>1</th>\n",
       "      <td>536365</td>\n",
       "      <td>17850</td>\n",
       "      <td>metal lantern</td>\n",
       "      <td>Wholesale</td>\n",
       "    </tr>\n",
       "    <tr>\n",
       "      <th>2</th>\n",
       "      <td>536365</td>\n",
       "      <td>17850</td>\n",
       "      <td>heart coat hanger</td>\n",
       "      <td>Wholesale</td>\n",
       "    </tr>\n",
       "    <tr>\n",
       "      <th>3</th>\n",
       "      <td>536365</td>\n",
       "      <td>17850</td>\n",
       "      <td>knitted union flag water bottle</td>\n",
       "      <td>Wholesale</td>\n",
       "    </tr>\n",
       "    <tr>\n",
       "      <th>4</th>\n",
       "      <td>536365</td>\n",
       "      <td>17850</td>\n",
       "      <td>woolly heart</td>\n",
       "      <td>Wholesale</td>\n",
       "    </tr>\n",
       "    <tr>\n",
       "      <th>...</th>\n",
       "      <td>...</td>\n",
       "      <td>...</td>\n",
       "      <td>...</td>\n",
       "      <td>...</td>\n",
       "    </tr>\n",
       "    <tr>\n",
       "      <th>536809</th>\n",
       "      <td>581587</td>\n",
       "      <td>12680</td>\n",
       "      <td>spaceboy napkin</td>\n",
       "      <td>Wholesale</td>\n",
       "    </tr>\n",
       "    <tr>\n",
       "      <th>536810</th>\n",
       "      <td>581587</td>\n",
       "      <td>12680</td>\n",
       "      <td>childrens apron dolly</td>\n",
       "      <td>Wholesale</td>\n",
       "    </tr>\n",
       "    <tr>\n",
       "      <th>536811</th>\n",
       "      <td>581587</td>\n",
       "      <td>12680</td>\n",
       "      <td>childrens cutlery dolly</td>\n",
       "      <td>Wholesale</td>\n",
       "    </tr>\n",
       "    <tr>\n",
       "      <th>536812</th>\n",
       "      <td>581587</td>\n",
       "      <td>12680</td>\n",
       "      <td>childrens cutlery circus parade</td>\n",
       "      <td>Wholesale</td>\n",
       "    </tr>\n",
       "    <tr>\n",
       "      <th>536813</th>\n",
       "      <td>581587</td>\n",
       "      <td>12680</td>\n",
       "      <td>baking piece retrospot</td>\n",
       "      <td>Wholesale</td>\n",
       "    </tr>\n",
       "  </tbody>\n",
       "</table>\n",
       "<p>394877 rows × 4 columns</p>\n",
       "</div>"
      ],
      "text/plain": [
       "        InvoiceNo  CustomerID                      Description CustomerType\n",
       "0          536365       17850      hanging heart tlight holder    Wholesale\n",
       "1          536365       17850                    metal lantern    Wholesale\n",
       "2          536365       17850                heart coat hanger    Wholesale\n",
       "3          536365       17850  knitted union flag water bottle    Wholesale\n",
       "4          536365       17850                     woolly heart    Wholesale\n",
       "...           ...         ...                              ...          ...\n",
       "536809     581587       12680                  spaceboy napkin    Wholesale\n",
       "536810     581587       12680            childrens apron dolly    Wholesale\n",
       "536811     581587       12680          childrens cutlery dolly    Wholesale\n",
       "536812     581587       12680  childrens cutlery circus parade    Wholesale\n",
       "536813     581587       12680           baking piece retrospot    Wholesale\n",
       "\n",
       "[394877 rows x 4 columns]"
      ]
     },
     "execution_count": 24,
     "metadata": {},
     "output_type": "execute_result"
    }
   ],
   "source": [
    "df_"
   ]
  },
  {
   "cell_type": "code",
   "execution_count": 25,
   "id": "1dc19f97-b9f1-4bb4-84a2-f5dbb8a0e96c",
   "metadata": {},
   "outputs": [
    {
     "data": {
      "text/plain": [
       "(17091, 2520916)"
      ]
     },
     "execution_count": 25,
     "metadata": {},
     "output_type": "execute_result"
    }
   ],
   "source": [
    "tf = TfidfVectorizer(analyzer=lambda s: (c for i in range(1,3)\n",
    "                                             for c in combinations(s.split(','), r=i)))\n",
    "tfidf_matrix = tf.fit_transform(df_inv['Description'])\n",
    "tfidf_matrix.shape"
   ]
  },
  {
   "cell_type": "code",
   "execution_count": null,
   "id": "9325761a-1340-4bb0-ab65-1e71ae6226be",
   "metadata": {},
   "outputs": [],
   "source": []
  },
  {
   "cell_type": "code",
   "execution_count": 26,
   "id": "6c6125bd-6033-409b-9cdd-a14e5f5a17a3",
   "metadata": {},
   "outputs": [],
   "source": [
    "cosine_sim = cosine_similarity(tfidf_matrix)\n",
    "cosine_sim_df = pd.DataFrame(cosine_sim, index=df_inv['InvoiceNo'], columns=df_inv['InvoiceNo'])\n"
   ]
  },
  {
   "cell_type": "code",
   "execution_count": 27,
   "id": "506dac07-91c9-467c-b532-d01f4f42ed97",
   "metadata": {},
   "outputs": [
    {
     "name": "stdout",
     "output_type": "stream",
     "text": [
      "Shape: (17091, 17091)\n"
     ]
    }
   ],
   "source": [
    "cosine_sim_df = pd.DataFrame(cosine_sim, index=df_inv['InvoiceNo'], columns=df_inv['InvoiceNo'])\n",
    "print('Shape:', cosine_sim_df.shape)\n",
    "#cosine_sim_df.sample(5, axis=1).round(4)"
   ]
  },
  {
   "cell_type": "code",
   "execution_count": 28,
   "id": "fee27036-1625-423f-a093-a3ecdb147791",
   "metadata": {},
   "outputs": [],
   "source": [
    "def basket_recommendations(i, sim_df, cols, customer, k=5):\n",
    "    \n",
    "    ix = sim_df.loc[:,i].to_numpy().argpartition(range(-1,-k,-1))\n",
    "    closest = sim_df.columns[ix[-1:-(k+2):-1]]\n",
    "    closest = closest.drop(i, errors='ignore')\n",
    "    \n",
    "    recs = pd.DataFrame(closest).merge(cols)\n",
    "    recs = recs.loc[recs.CustomerID != customer]\n",
    "    \n",
    "    return recs.head(k)\n"
   ]
  },
  {
   "cell_type": "code",
   "execution_count": 29,
   "id": "01f6a634-469e-4c2e-b132-b1c19f26c19a",
   "metadata": {},
   "outputs": [],
   "source": [
    "basket_ = basket_recommendations(581583, cosine_sim_df, df_inv[['InvoiceNo', 'Description', 'CustomerID']], 13777)"
   ]
  },
  {
   "cell_type": "code",
   "execution_count": 30,
   "id": "92fbfefd-68f4-4c70-b584-41026dfc59a1",
   "metadata": {},
   "outputs": [
    {
     "data": {
      "text/html": [
       "<div>\n",
       "<style scoped>\n",
       "    .dataframe tbody tr th:only-of-type {\n",
       "        vertical-align: middle;\n",
       "    }\n",
       "\n",
       "    .dataframe tbody tr th {\n",
       "        vertical-align: top;\n",
       "    }\n",
       "\n",
       "    .dataframe thead th {\n",
       "        text-align: right;\n",
       "    }\n",
       "</style>\n",
       "<table border=\"1\" class=\"dataframe\">\n",
       "  <thead>\n",
       "    <tr style=\"text-align: right;\">\n",
       "      <th></th>\n",
       "      <th>InvoiceNo</th>\n",
       "      <th>Description</th>\n",
       "      <th>CustomerID</th>\n",
       "    </tr>\n",
       "  </thead>\n",
       "  <tbody>\n",
       "    <tr>\n",
       "      <th>3</th>\n",
       "      <td>539219</td>\n",
       "      <td>love heart pocket warmer,hand warmer babushka ...</td>\n",
       "      <td>17951</td>\n",
       "    </tr>\n",
       "  </tbody>\n",
       "</table>\n",
       "</div>"
      ],
      "text/plain": [
       "   InvoiceNo                                        Description  CustomerID\n",
       "3     539219  love heart pocket warmer,hand warmer babushka ...       17951"
      ]
     },
     "execution_count": 30,
     "metadata": {},
     "output_type": "execute_result"
    }
   ],
   "source": [
    "basket_"
   ]
  },
  {
   "cell_type": "code",
   "execution_count": 31,
   "id": "c43b6b70-b287-46de-ae82-eb9c32bd413d",
   "metadata": {},
   "outputs": [
    {
     "data": {
      "text/html": [
       "<div>\n",
       "<style scoped>\n",
       "    .dataframe tbody tr th:only-of-type {\n",
       "        vertical-align: middle;\n",
       "    }\n",
       "\n",
       "    .dataframe tbody tr th {\n",
       "        vertical-align: top;\n",
       "    }\n",
       "\n",
       "    .dataframe thead th {\n",
       "        text-align: right;\n",
       "    }\n",
       "</style>\n",
       "<table border=\"1\" class=\"dataframe\">\n",
       "  <thead>\n",
       "    <tr style=\"text-align: right;\">\n",
       "      <th></th>\n",
       "      <th>InvoiceNo</th>\n",
       "      <th>CustomerID</th>\n",
       "      <th>Description</th>\n",
       "      <th>CustomerType</th>\n",
       "    </tr>\n",
       "  </thead>\n",
       "  <tbody>\n",
       "    <tr>\n",
       "      <th>536770</th>\n",
       "      <td>581583</td>\n",
       "      <td>13777</td>\n",
       "      <td>lunch bag retrospot</td>\n",
       "      <td>Wholesale</td>\n",
       "    </tr>\n",
       "    <tr>\n",
       "      <th>536771</th>\n",
       "      <td>581583</td>\n",
       "      <td>13777</td>\n",
       "      <td>love heart tlights</td>\n",
       "      <td>Wholesale</td>\n",
       "    </tr>\n",
       "  </tbody>\n",
       "</table>\n",
       "</div>"
      ],
      "text/plain": [
       "       InvoiceNo  CustomerID          Description CustomerType\n",
       "536770    581583       13777  lunch bag retrospot    Wholesale\n",
       "536771    581583       13777   love heart tlights    Wholesale"
      ]
     },
     "execution_count": 31,
     "metadata": {},
     "output_type": "execute_result"
    }
   ],
   "source": [
    "df.loc[df['InvoiceNo']=='581583']"
   ]
  },
  {
   "cell_type": "code",
   "execution_count": 32,
   "id": "9aca0699-7621-43fa-b302-aeae82da9252",
   "metadata": {},
   "outputs": [
    {
     "data": {
      "text/html": [
       "<div>\n",
       "<style scoped>\n",
       "    .dataframe tbody tr th:only-of-type {\n",
       "        vertical-align: middle;\n",
       "    }\n",
       "\n",
       "    .dataframe tbody tr th {\n",
       "        vertical-align: top;\n",
       "    }\n",
       "\n",
       "    .dataframe thead th {\n",
       "        text-align: right;\n",
       "    }\n",
       "</style>\n",
       "<table border=\"1\" class=\"dataframe\">\n",
       "  <thead>\n",
       "    <tr style=\"text-align: right;\">\n",
       "      <th></th>\n",
       "      <th>InvoiceNo</th>\n",
       "      <th>CustomerID</th>\n",
       "      <th>Description</th>\n",
       "      <th>CustomerType</th>\n",
       "    </tr>\n",
       "  </thead>\n",
       "  <tbody>\n",
       "    <tr>\n",
       "      <th>32797</th>\n",
       "      <td>539219</td>\n",
       "      <td>17951</td>\n",
       "      <td>love heart pocket warmer</td>\n",
       "      <td>Wholesale</td>\n",
       "    </tr>\n",
       "    <tr>\n",
       "      <th>32798</th>\n",
       "      <td>539219</td>\n",
       "      <td>17951</td>\n",
       "      <td>hand warmer babushka design</td>\n",
       "      <td>Wholesale</td>\n",
       "    </tr>\n",
       "    <tr>\n",
       "      <th>32799</th>\n",
       "      <td>539219</td>\n",
       "      <td>17951</td>\n",
       "      <td>tlights snowman</td>\n",
       "      <td>Wholesale</td>\n",
       "    </tr>\n",
       "    <tr>\n",
       "      <th>32800</th>\n",
       "      <td>539219</td>\n",
       "      <td>17951</td>\n",
       "      <td>love heart tlights</td>\n",
       "      <td>Wholesale</td>\n",
       "    </tr>\n",
       "  </tbody>\n",
       "</table>\n",
       "</div>"
      ],
      "text/plain": [
       "      InvoiceNo  CustomerID                  Description CustomerType\n",
       "32797    539219       17951     love heart pocket warmer    Wholesale\n",
       "32798    539219       17951  hand warmer babushka design    Wholesale\n",
       "32799    539219       17951              tlights snowman    Wholesale\n",
       "32800    539219       17951           love heart tlights    Wholesale"
      ]
     },
     "execution_count": 32,
     "metadata": {},
     "output_type": "execute_result"
    }
   ],
   "source": [
    "df.loc[df['InvoiceNo']=='539219']"
   ]
  },
  {
   "cell_type": "code",
   "execution_count": 33,
   "id": "f79a1826-a94e-4c47-9462-b9079a6e8893",
   "metadata": {},
   "outputs": [
    {
     "data": {
      "text/html": [
       "<div>\n",
       "<style scoped>\n",
       "    .dataframe tbody tr th:only-of-type {\n",
       "        vertical-align: middle;\n",
       "    }\n",
       "\n",
       "    .dataframe tbody tr th {\n",
       "        vertical-align: top;\n",
       "    }\n",
       "\n",
       "    .dataframe thead th {\n",
       "        text-align: right;\n",
       "    }\n",
       "</style>\n",
       "<table border=\"1\" class=\"dataframe\">\n",
       "  <thead>\n",
       "    <tr style=\"text-align: right;\">\n",
       "      <th></th>\n",
       "      <th>InvoiceNo</th>\n",
       "      <th>Description</th>\n",
       "      <th>CustomerID</th>\n",
       "    </tr>\n",
       "  </thead>\n",
       "  <tbody>\n",
       "    <tr>\n",
       "      <th>3</th>\n",
       "      <td>539219</td>\n",
       "      <td>love heart pocket warmer,hand warmer babushka ...</td>\n",
       "      <td>17951</td>\n",
       "    </tr>\n",
       "  </tbody>\n",
       "</table>\n",
       "</div>"
      ],
      "text/plain": [
       "   InvoiceNo                                        Description  CustomerID\n",
       "3     539219  love heart pocket warmer,hand warmer babushka ...       17951"
      ]
     },
     "execution_count": 33,
     "metadata": {},
     "output_type": "execute_result"
    }
   ],
   "source": [
    "basket_"
   ]
  },
  {
   "cell_type": "code",
   "execution_count": 34,
   "id": "cc26cf9c-9081-4e06-aa6b-5c5457884bff",
   "metadata": {},
   "outputs": [
    {
     "data": {
      "text/html": [
       "<div>\n",
       "<style scoped>\n",
       "    .dataframe tbody tr th:only-of-type {\n",
       "        vertical-align: middle;\n",
       "    }\n",
       "\n",
       "    .dataframe tbody tr th {\n",
       "        vertical-align: top;\n",
       "    }\n",
       "\n",
       "    .dataframe thead th {\n",
       "        text-align: right;\n",
       "    }\n",
       "</style>\n",
       "<table border=\"1\" class=\"dataframe\">\n",
       "  <thead>\n",
       "    <tr style=\"text-align: right;\">\n",
       "      <th></th>\n",
       "      <th>InvoiceNo</th>\n",
       "      <th>CustomerID</th>\n",
       "      <th>Description</th>\n",
       "      <th>CustomerType</th>\n",
       "    </tr>\n",
       "  </thead>\n",
       "  <tbody>\n",
       "    <tr>\n",
       "      <th>32797</th>\n",
       "      <td>539219</td>\n",
       "      <td>17951</td>\n",
       "      <td>love heart pocket warmer</td>\n",
       "      <td>Wholesale</td>\n",
       "    </tr>\n",
       "    <tr>\n",
       "      <th>32798</th>\n",
       "      <td>539219</td>\n",
       "      <td>17951</td>\n",
       "      <td>hand warmer babushka design</td>\n",
       "      <td>Wholesale</td>\n",
       "    </tr>\n",
       "    <tr>\n",
       "      <th>32799</th>\n",
       "      <td>539219</td>\n",
       "      <td>17951</td>\n",
       "      <td>tlights snowman</td>\n",
       "      <td>Wholesale</td>\n",
       "    </tr>\n",
       "    <tr>\n",
       "      <th>32800</th>\n",
       "      <td>539219</td>\n",
       "      <td>17951</td>\n",
       "      <td>love heart tlights</td>\n",
       "      <td>Wholesale</td>\n",
       "    </tr>\n",
       "  </tbody>\n",
       "</table>\n",
       "</div>"
      ],
      "text/plain": [
       "      InvoiceNo  CustomerID                  Description CustomerType\n",
       "32797    539219       17951     love heart pocket warmer    Wholesale\n",
       "32798    539219       17951  hand warmer babushka design    Wholesale\n",
       "32799    539219       17951              tlights snowman    Wholesale\n",
       "32800    539219       17951           love heart tlights    Wholesale"
      ]
     },
     "execution_count": 34,
     "metadata": {},
     "output_type": "execute_result"
    }
   ],
   "source": [
    "df.loc[df['InvoiceNo']=='539219']"
   ]
  },
  {
   "cell_type": "code",
   "execution_count": 35,
   "id": "482bf5f6-72d1-4f99-a615-35570bd56ec4",
   "metadata": {},
   "outputs": [
    {
     "data": {
      "text/plain": [
       "InvoiceNo       object\n",
       "CustomerID       int64\n",
       "Description     object\n",
       "CustomerType    object\n",
       "dtype: object"
      ]
     },
     "execution_count": 35,
     "metadata": {},
     "output_type": "execute_result"
    }
   ],
   "source": [
    "df.dtypes"
   ]
  },
  {
   "cell_type": "code",
   "execution_count": 36,
   "id": "0c79f9ce-710b-43c5-91c3-d638cdd58135",
   "metadata": {},
   "outputs": [
    {
     "data": {
      "text/html": [
       "<div>\n",
       "<style scoped>\n",
       "    .dataframe tbody tr th:only-of-type {\n",
       "        vertical-align: middle;\n",
       "    }\n",
       "\n",
       "    .dataframe tbody tr th {\n",
       "        vertical-align: top;\n",
       "    }\n",
       "\n",
       "    .dataframe thead th {\n",
       "        text-align: right;\n",
       "    }\n",
       "</style>\n",
       "<table border=\"1\" class=\"dataframe\">\n",
       "  <thead>\n",
       "    <tr style=\"text-align: right;\">\n",
       "      <th></th>\n",
       "      <th>InvoiceNo</th>\n",
       "      <th>CustomerID</th>\n",
       "      <th>Description</th>\n",
       "      <th>CustomerType</th>\n",
       "    </tr>\n",
       "  </thead>\n",
       "  <tbody>\n",
       "    <tr>\n",
       "      <th>0</th>\n",
       "      <td>536365</td>\n",
       "      <td>17850</td>\n",
       "      <td>hanging heart tlight holder</td>\n",
       "      <td>Wholesale</td>\n",
       "    </tr>\n",
       "    <tr>\n",
       "      <th>1</th>\n",
       "      <td>536365</td>\n",
       "      <td>17850</td>\n",
       "      <td>metal lantern</td>\n",
       "      <td>Wholesale</td>\n",
       "    </tr>\n",
       "    <tr>\n",
       "      <th>2</th>\n",
       "      <td>536365</td>\n",
       "      <td>17850</td>\n",
       "      <td>heart coat hanger</td>\n",
       "      <td>Wholesale</td>\n",
       "    </tr>\n",
       "    <tr>\n",
       "      <th>3</th>\n",
       "      <td>536365</td>\n",
       "      <td>17850</td>\n",
       "      <td>knitted union flag water bottle</td>\n",
       "      <td>Wholesale</td>\n",
       "    </tr>\n",
       "    <tr>\n",
       "      <th>4</th>\n",
       "      <td>536365</td>\n",
       "      <td>17850</td>\n",
       "      <td>woolly heart</td>\n",
       "      <td>Wholesale</td>\n",
       "    </tr>\n",
       "    <tr>\n",
       "      <th>...</th>\n",
       "      <td>...</td>\n",
       "      <td>...</td>\n",
       "      <td>...</td>\n",
       "      <td>...</td>\n",
       "    </tr>\n",
       "    <tr>\n",
       "      <th>536809</th>\n",
       "      <td>581587</td>\n",
       "      <td>12680</td>\n",
       "      <td>spaceboy napkin</td>\n",
       "      <td>Wholesale</td>\n",
       "    </tr>\n",
       "    <tr>\n",
       "      <th>536810</th>\n",
       "      <td>581587</td>\n",
       "      <td>12680</td>\n",
       "      <td>childrens apron dolly</td>\n",
       "      <td>Wholesale</td>\n",
       "    </tr>\n",
       "    <tr>\n",
       "      <th>536811</th>\n",
       "      <td>581587</td>\n",
       "      <td>12680</td>\n",
       "      <td>childrens cutlery dolly</td>\n",
       "      <td>Wholesale</td>\n",
       "    </tr>\n",
       "    <tr>\n",
       "      <th>536812</th>\n",
       "      <td>581587</td>\n",
       "      <td>12680</td>\n",
       "      <td>childrens cutlery circus parade</td>\n",
       "      <td>Wholesale</td>\n",
       "    </tr>\n",
       "    <tr>\n",
       "      <th>536813</th>\n",
       "      <td>581587</td>\n",
       "      <td>12680</td>\n",
       "      <td>baking piece retrospot</td>\n",
       "      <td>Wholesale</td>\n",
       "    </tr>\n",
       "  </tbody>\n",
       "</table>\n",
       "<p>394877 rows × 4 columns</p>\n",
       "</div>"
      ],
      "text/plain": [
       "        InvoiceNo  CustomerID                      Description CustomerType\n",
       "0          536365       17850      hanging heart tlight holder    Wholesale\n",
       "1          536365       17850                    metal lantern    Wholesale\n",
       "2          536365       17850                heart coat hanger    Wholesale\n",
       "3          536365       17850  knitted union flag water bottle    Wholesale\n",
       "4          536365       17850                     woolly heart    Wholesale\n",
       "...           ...         ...                              ...          ...\n",
       "536809     581587       12680                  spaceboy napkin    Wholesale\n",
       "536810     581587       12680            childrens apron dolly    Wholesale\n",
       "536811     581587       12680          childrens cutlery dolly    Wholesale\n",
       "536812     581587       12680  childrens cutlery circus parade    Wholesale\n",
       "536813     581587       12680           baking piece retrospot    Wholesale\n",
       "\n",
       "[394877 rows x 4 columns]"
      ]
     },
     "execution_count": 36,
     "metadata": {},
     "output_type": "execute_result"
    }
   ],
   "source": [
    "df_"
   ]
  },
  {
   "cell_type": "code",
   "execution_count": 37,
   "id": "8d83412f-29c8-4a99-b332-69388ad84503",
   "metadata": {},
   "outputs": [],
   "source": [
    "def create_basket(items, customer=99999999):\n",
    "    \"\"\"\n",
    "    create an \"invoice\"\n",
    "    \"\"\"\n",
    "    return pd.DataFrame(data={'InvoiceNo': [0], 'CustomerID':[customer], 'Description': [(',').join(items)], 'combined': [(' ').join(items)],  })\n",
    "\n",
    "new_basket = create_basket(['towel design', 'alarm clock bakelike']) \n",
    "#pd.concat([df_inv, new_basket])"
   ]
  },
  {
   "cell_type": "code",
   "execution_count": 38,
   "id": "59dba21a-c163-4910-93a1-224b69a947c1",
   "metadata": {},
   "outputs": [
    {
     "data": {
      "text/html": [
       "<div>\n",
       "<style scoped>\n",
       "    .dataframe tbody tr th:only-of-type {\n",
       "        vertical-align: middle;\n",
       "    }\n",
       "\n",
       "    .dataframe tbody tr th {\n",
       "        vertical-align: top;\n",
       "    }\n",
       "\n",
       "    .dataframe thead th {\n",
       "        text-align: right;\n",
       "    }\n",
       "</style>\n",
       "<table border=\"1\" class=\"dataframe\">\n",
       "  <thead>\n",
       "    <tr style=\"text-align: right;\">\n",
       "      <th></th>\n",
       "      <th>InvoiceNo</th>\n",
       "      <th>CustomerID</th>\n",
       "      <th>Description</th>\n",
       "      <th>combined</th>\n",
       "    </tr>\n",
       "  </thead>\n",
       "  <tbody>\n",
       "    <tr>\n",
       "      <th>0</th>\n",
       "      <td>0</td>\n",
       "      <td>99999999</td>\n",
       "      <td>towel design,alarm clock bakelike</td>\n",
       "      <td>towel design alarm clock bakelike</td>\n",
       "    </tr>\n",
       "  </tbody>\n",
       "</table>\n",
       "</div>"
      ],
      "text/plain": [
       "   InvoiceNo  CustomerID                        Description  \\\n",
       "0          0    99999999  towel design,alarm clock bakelike   \n",
       "\n",
       "                            combined  \n",
       "0  towel design alarm clock bakelike  "
      ]
     },
     "execution_count": 38,
     "metadata": {},
     "output_type": "execute_result"
    }
   ],
   "source": [
    "new_basket = create_basket(['towel design', 'alarm clock bakelike']) \n",
    "new_basket\n"
   ]
  },
  {
   "cell_type": "code",
   "execution_count": 39,
   "id": "d7367ead-6505-48c0-9e2f-bb29c7c2ef69",
   "metadata": {},
   "outputs": [
    {
     "data": {
      "text/plain": [
       "0"
      ]
     },
     "execution_count": 39,
     "metadata": {},
     "output_type": "execute_result"
    }
   ],
   "source": [
    "new_basket['InvoiceNo'][0]"
   ]
  },
  {
   "cell_type": "code",
   "execution_count": 40,
   "id": "8034d4b0-9de2-493a-9bf6-aba57b675bd9",
   "metadata": {},
   "outputs": [
    {
     "data": {
      "text/html": [
       "<div>\n",
       "<style scoped>\n",
       "    .dataframe tbody tr th:only-of-type {\n",
       "        vertical-align: middle;\n",
       "    }\n",
       "\n",
       "    .dataframe tbody tr th {\n",
       "        vertical-align: top;\n",
       "    }\n",
       "\n",
       "    .dataframe thead th {\n",
       "        text-align: right;\n",
       "    }\n",
       "</style>\n",
       "<table border=\"1\" class=\"dataframe\">\n",
       "  <thead>\n",
       "    <tr style=\"text-align: right;\">\n",
       "      <th></th>\n",
       "      <th>InvoiceNo</th>\n",
       "      <th>CustomerID</th>\n",
       "      <th>Description</th>\n",
       "      <th>combined</th>\n",
       "    </tr>\n",
       "  </thead>\n",
       "  <tbody>\n",
       "    <tr>\n",
       "      <th>0</th>\n",
       "      <td>536365</td>\n",
       "      <td>17850</td>\n",
       "      <td>hanging heart tlight holder,metal lantern,hear...</td>\n",
       "      <td>hanging heart tlight holder metal lantern hear...</td>\n",
       "    </tr>\n",
       "    <tr>\n",
       "      <th>1</th>\n",
       "      <td>536366</td>\n",
       "      <td>17850</td>\n",
       "      <td>hand warmer union jack,hand warmer polka dot</td>\n",
       "      <td>hand warmer union jack hand warmer polka dot</td>\n",
       "    </tr>\n",
       "    <tr>\n",
       "      <th>2</th>\n",
       "      <td>536367</td>\n",
       "      <td>13047</td>\n",
       "      <td>bird ornament,playhouse bedroom,playhouse kitc...</td>\n",
       "      <td>bird ornament playhouse bedroom playhouse kitc...</td>\n",
       "    </tr>\n",
       "    <tr>\n",
       "      <th>3</th>\n",
       "      <td>536368</td>\n",
       "      <td>13047</td>\n",
       "      <td>jam making jar,coat rack paris fashion,coat ra...</td>\n",
       "      <td>jam making jar coat rack paris fashion coat ra...</td>\n",
       "    </tr>\n",
       "    <tr>\n",
       "      <th>4</th>\n",
       "      <td>536370</td>\n",
       "      <td>12583</td>\n",
       "      <td>alarm clock bakelike,alarm clock bakelike,alar...</td>\n",
       "      <td>alarm clock bakelike alarm clock bakelike alar...</td>\n",
       "    </tr>\n",
       "    <tr>\n",
       "      <th>...</th>\n",
       "      <td>...</td>\n",
       "      <td>...</td>\n",
       "      <td>...</td>\n",
       "      <td>...</td>\n",
       "    </tr>\n",
       "    <tr>\n",
       "      <th>17087</th>\n",
       "      <td>581584</td>\n",
       "      <td>13777</td>\n",
       "      <td>flock love heart photo frame,love heart tlights</td>\n",
       "      <td>flock love heart photo frame love heart tlights</td>\n",
       "    </tr>\n",
       "    <tr>\n",
       "      <th>17088</th>\n",
       "      <td>581585</td>\n",
       "      <td>15804</td>\n",
       "      <td>towel design,magnet,glass hanging tlight,glass...</td>\n",
       "      <td>towel design magnet glass hanging tlight glass...</td>\n",
       "    </tr>\n",
       "    <tr>\n",
       "      <th>17089</th>\n",
       "      <td>581586</td>\n",
       "      <td>13113</td>\n",
       "      <td>cake stand hanging strawbery,hanging owl beak,...</td>\n",
       "      <td>cake stand hanging strawbery hanging owl beak ...</td>\n",
       "    </tr>\n",
       "    <tr>\n",
       "      <th>17090</th>\n",
       "      <td>581587</td>\n",
       "      <td>12680</td>\n",
       "      <td>circus parade lunch box,plaster tin circus par...</td>\n",
       "      <td>circus parade lunch box plaster tin circus par...</td>\n",
       "    </tr>\n",
       "    <tr>\n",
       "      <th>0</th>\n",
       "      <td>0</td>\n",
       "      <td>99999999</td>\n",
       "      <td>towel design,alarm clock bakelike</td>\n",
       "      <td>towel design alarm clock bakelike</td>\n",
       "    </tr>\n",
       "  </tbody>\n",
       "</table>\n",
       "<p>17092 rows × 4 columns</p>\n",
       "</div>"
      ],
      "text/plain": [
       "       InvoiceNo  CustomerID  \\\n",
       "0         536365       17850   \n",
       "1         536366       17850   \n",
       "2         536367       13047   \n",
       "3         536368       13047   \n",
       "4         536370       12583   \n",
       "...          ...         ...   \n",
       "17087     581584       13777   \n",
       "17088     581585       15804   \n",
       "17089     581586       13113   \n",
       "17090     581587       12680   \n",
       "0              0    99999999   \n",
       "\n",
       "                                             Description  \\\n",
       "0      hanging heart tlight holder,metal lantern,hear...   \n",
       "1           hand warmer union jack,hand warmer polka dot   \n",
       "2      bird ornament,playhouse bedroom,playhouse kitc...   \n",
       "3      jam making jar,coat rack paris fashion,coat ra...   \n",
       "4      alarm clock bakelike,alarm clock bakelike,alar...   \n",
       "...                                                  ...   \n",
       "17087    flock love heart photo frame,love heart tlights   \n",
       "17088  towel design,magnet,glass hanging tlight,glass...   \n",
       "17089  cake stand hanging strawbery,hanging owl beak,...   \n",
       "17090  circus parade lunch box,plaster tin circus par...   \n",
       "0                      towel design,alarm clock bakelike   \n",
       "\n",
       "                                                combined  \n",
       "0      hanging heart tlight holder metal lantern hear...  \n",
       "1           hand warmer union jack hand warmer polka dot  \n",
       "2      bird ornament playhouse bedroom playhouse kitc...  \n",
       "3      jam making jar coat rack paris fashion coat ra...  \n",
       "4      alarm clock bakelike alarm clock bakelike alar...  \n",
       "...                                                  ...  \n",
       "17087    flock love heart photo frame love heart tlights  \n",
       "17088  towel design magnet glass hanging tlight glass...  \n",
       "17089  cake stand hanging strawbery hanging owl beak ...  \n",
       "17090  circus parade lunch box plaster tin circus par...  \n",
       "0                      towel design alarm clock bakelike  \n",
       "\n",
       "[17092 rows x 4 columns]"
      ]
     },
     "execution_count": 40,
     "metadata": {},
     "output_type": "execute_result"
    }
   ],
   "source": [
    "merged_inv = pd.concat([df_inv, new_basket])\n",
    "merged_inv"
   ]
  },
  {
   "cell_type": "code",
   "execution_count": 41,
   "id": "9d321593-65e2-4a72-b62c-da3f8d632bb2",
   "metadata": {},
   "outputs": [],
   "source": [
    "def vectorize_invoices(df):\n",
    "    tf = TfidfVectorizer(analyzer=lambda s: (c for i in range(1,3)\n",
    "                                    for c in combinations(s.split(','), r=i)))\n",
    "\n",
    "    tfidf_matrix = tf.fit_transform(df['Description'])\n",
    "    \n",
    "    return tfidf_matrix\n",
    "\n",
    "## \n",
    "## tfidf_matrix = vectorize_invoices(merged_inv)\n",
    "## \n",
    "\n",
    "def make_cosine_matrix(mx, idx ):\n",
    "    cosine_sim = cosine_similarity(mx)\n",
    "    cosine_sim_df = pd.DataFrame(cosine_sim, index=idx, columns=idx)\n",
    "    return cosine_sim_df\n",
    "\n",
    "## \n",
    "## cosine_sim_df = make_cosine_matrix(tfidf_matrix, merged_inv['InvoiceNo'])\n",
    "## \n"
   ]
  },
  {
   "cell_type": "code",
   "execution_count": null,
   "id": "5db76f36-5c0a-4382-ab9e-5d72654b5f37",
   "metadata": {},
   "outputs": [],
   "source": []
  },
  {
   "cell_type": "code",
   "execution_count": 42,
   "id": "ed06f2a2-5a22-4fa4-92cb-3f56bdcea95f",
   "metadata": {},
   "outputs": [
    {
     "data": {
      "text/html": [
       "<div>\n",
       "<style scoped>\n",
       "    .dataframe tbody tr th:only-of-type {\n",
       "        vertical-align: middle;\n",
       "    }\n",
       "\n",
       "    .dataframe tbody tr th {\n",
       "        vertical-align: top;\n",
       "    }\n",
       "\n",
       "    .dataframe thead th {\n",
       "        text-align: right;\n",
       "    }\n",
       "</style>\n",
       "<table border=\"1\" class=\"dataframe\">\n",
       "  <thead>\n",
       "    <tr style=\"text-align: right;\">\n",
       "      <th></th>\n",
       "      <th>InvoiceNo</th>\n",
       "      <th>Description</th>\n",
       "      <th>CustomerID</th>\n",
       "    </tr>\n",
       "  </thead>\n",
       "  <tbody>\n",
       "    <tr>\n",
       "      <th>3</th>\n",
       "      <td>539219</td>\n",
       "      <td>love heart pocket warmer,hand warmer babushka ...</td>\n",
       "      <td>17951</td>\n",
       "    </tr>\n",
       "  </tbody>\n",
       "</table>\n",
       "</div>"
      ],
      "text/plain": [
       "   InvoiceNo                                        Description  CustomerID\n",
       "3     539219  love heart pocket warmer,hand warmer babushka ...       17951"
      ]
     },
     "execution_count": 42,
     "metadata": {},
     "output_type": "execute_result"
    }
   ],
   "source": [
    "basket_#.dtypes"
   ]
  },
  {
   "cell_type": "code",
   "execution_count": 43,
   "id": "3c688eb8-6549-4111-8feb-2fe337539d2e",
   "metadata": {},
   "outputs": [],
   "source": [
    "\n",
    "def get_similar_baskets(items, invoices, customerid=-99999999, k=5, idx='InvoiceNo'):\n",
    "    new_basket = create_basket(items, customerid)\n",
    "    \n",
    "    inv_ = pd.concat([invoices, new_basket])\n",
    "    \n",
    "\n",
    "    \n",
    "    ## vectorize invoices\n",
    "    tfidf_matrix = vectorize_invoices(inv_)\n",
    "    \n",
    "    ## make similarity matrix\n",
    "    similarity_matrix = make_cosine_matrix(tfidf_matrix, inv_[idx])\n",
    "    \n",
    "    i = new_basket['InvoiceNo'][0]\n",
    "    \n",
    "    ix = similarity_matrix.loc[:,i].to_numpy().argpartition(range(-1,-k,-1))\n",
    "\n",
    "    closest = similarity_matrix.columns[ix[-1:-(k+2):-1]]\n",
    "    closest = closest.drop(i, errors='ignore')\n",
    "    \n",
    "    recs = pd.DataFrame(closest).merge(inv_[['InvoiceNo', 'Description', 'CustomerID']])\n",
    "    recs = recs.loc[recs.CustomerID != customerid]\n",
    "    \n",
    "    \n",
    "    return recs\n",
    "\n"
   ]
  },
  {
   "cell_type": "code",
   "execution_count": null,
   "id": "254c2ae6-fc90-4f3a-b5cc-df4aadbd394f",
   "metadata": {},
   "outputs": [],
   "source": [
    "    "
   ]
  },
  {
   "cell_type": "code",
   "execution_count": 44,
   "id": "b4cceba0-f324-4829-9663-c775e0c2639e",
   "metadata": {},
   "outputs": [],
   "source": [
    "def get_product_recs(similar_baskets, items):\n",
    "    basket_contents = list(set(','.join(similar_baskets['Description'].tolist()).split(',')))\n",
    "    diff = list(set(basket_contents) - set(new_items))\n",
    "    \n",
    "    return diff"
   ]
  },
  {
   "cell_type": "code",
   "execution_count": 45,
   "id": "41f1d026-1869-4ac5-986e-273498a9512a",
   "metadata": {},
   "outputs": [],
   "source": [
    "new_items = ['towel design']\n",
    "new_items_ = ['lunch bag retrospot', 'love heart tlights']"
   ]
  },
  {
   "cell_type": "code",
   "execution_count": 46,
   "id": "914a3aec-d157-449a-9115-6b5e779b3d83",
   "metadata": {},
   "outputs": [],
   "source": [
    "new_items = ['lunch bag retrospot', 'towel design']\n",
    "similar_baskets = get_similar_baskets(new_items, df_inv, )"
   ]
  },
  {
   "cell_type": "code",
   "execution_count": 47,
   "id": "4cf53d53-7307-4310-97ba-c43261a07058",
   "metadata": {},
   "outputs": [
    {
     "data": {
      "text/html": [
       "<div>\n",
       "<style scoped>\n",
       "    .dataframe tbody tr th:only-of-type {\n",
       "        vertical-align: middle;\n",
       "    }\n",
       "\n",
       "    .dataframe tbody tr th {\n",
       "        vertical-align: top;\n",
       "    }\n",
       "\n",
       "    .dataframe thead th {\n",
       "        text-align: right;\n",
       "    }\n",
       "</style>\n",
       "<table border=\"1\" class=\"dataframe\">\n",
       "  <thead>\n",
       "    <tr style=\"text-align: right;\">\n",
       "      <th></th>\n",
       "      <th>InvoiceNo</th>\n",
       "      <th>Description</th>\n",
       "      <th>CustomerID</th>\n",
       "    </tr>\n",
       "  </thead>\n",
       "  <tbody>\n",
       "    <tr>\n",
       "      <th>0</th>\n",
       "      <td>538049</td>\n",
       "      <td>glass dressing table pot,towel design,towel de...</td>\n",
       "      <td>12748</td>\n",
       "    </tr>\n",
       "    <tr>\n",
       "      <th>1</th>\n",
       "      <td>552456</td>\n",
       "      <td>retrospot oven glove,party bunting,child garde...</td>\n",
       "      <td>13999</td>\n",
       "    </tr>\n",
       "    <tr>\n",
       "      <th>2</th>\n",
       "      <td>581583</td>\n",
       "      <td>lunch bag retrospot,love heart tlights</td>\n",
       "      <td>13777</td>\n",
       "    </tr>\n",
       "    <tr>\n",
       "      <th>3</th>\n",
       "      <td>565154</td>\n",
       "      <td>lunch bag design,lunch bag skull,lunch bag ret...</td>\n",
       "      <td>13470</td>\n",
       "    </tr>\n",
       "    <tr>\n",
       "      <th>4</th>\n",
       "      <td>562466</td>\n",
       "      <td>towel design,mirrored disco ball,towel design,...</td>\n",
       "      <td>13435</td>\n",
       "    </tr>\n",
       "  </tbody>\n",
       "</table>\n",
       "</div>"
      ],
      "text/plain": [
       "   InvoiceNo                                        Description  CustomerID\n",
       "0     538049  glass dressing table pot,towel design,towel de...       12748\n",
       "1     552456  retrospot oven glove,party bunting,child garde...       13999\n",
       "2     581583             lunch bag retrospot,love heart tlights       13777\n",
       "3     565154  lunch bag design,lunch bag skull,lunch bag ret...       13470\n",
       "4     562466  towel design,mirrored disco ball,towel design,...       13435"
      ]
     },
     "execution_count": 47,
     "metadata": {},
     "output_type": "execute_result"
    }
   ],
   "source": [
    "similar_baskets"
   ]
  },
  {
   "cell_type": "code",
   "execution_count": 48,
   "id": "5cb42cc5-0123-4d45-9b28-4f0596073ed7",
   "metadata": {},
   "outputs": [
    {
     "data": {
      "text/plain": [
       "['disco ball christmas decoration',\n",
       " 'zinc willie winkie candle stick',\n",
       " 'wood garden plant ladder',\n",
       " 'glass cookie jar',\n",
       " 'child garden spade',\n",
       " 'lunch bag design',\n",
       " 'lunch bag vintage design',\n",
       " 'party bunting',\n",
       " 'mirrored disco ball',\n",
       " 'glass dressing table pot',\n",
       " 'vintage paisley',\n",
       " 'spring paper cup',\n",
       " 'hanging heart jar tlight holder',\n",
       " 'retrospot cup',\n",
       " 'lunch bag skull',\n",
       " 'watering elephant',\n",
       " 'flag',\n",
       " 'polkadot bowl',\n",
       " 'multi colour holder',\n",
       " 'colour glass tlight holder hanging',\n",
       " 'colour silk fan',\n",
       " 'retrospot oven glove',\n",
       " 'paper bunting coloured lace',\n",
       " 'paper cup',\n",
       " 'love heart tlights',\n",
       " 'polkadot cup',\n",
       " 'feltcraft shoulder bag',\n",
       " 'kitten design flannel',\n",
       " 'gardener kneeling pad calm',\n",
       " 'polyester filler pad xcm',\n",
       " 'paper napkin']"
      ]
     },
     "execution_count": 48,
     "metadata": {},
     "output_type": "execute_result"
    }
   ],
   "source": [
    "get_product_recs(similar_baskets, new_items)"
   ]
  },
  {
   "cell_type": "code",
   "execution_count": null,
   "id": "e0211e8b-6558-4aa2-9428-bc7c22e3599c",
   "metadata": {},
   "outputs": [],
   "source": []
  }
 ],
 "metadata": {
  "kernelspec": {
   "display_name": "Python 3 (ipykernel)",
   "language": "python",
   "name": "python3"
  },
  "language_info": {
   "codemirror_mode": {
    "name": "ipython",
    "version": 3
   },
   "file_extension": ".py",
   "mimetype": "text/x-python",
   "name": "python",
   "nbconvert_exporter": "python",
   "pygments_lexer": "ipython3",
   "version": "3.9.7"
  }
 },
 "nbformat": 4,
 "nbformat_minor": 5
}
